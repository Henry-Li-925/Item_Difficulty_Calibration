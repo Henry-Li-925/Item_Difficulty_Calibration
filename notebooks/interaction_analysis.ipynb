{
 "cells": [
  {
   "cell_type": "code",
   "execution_count": 1,
   "metadata": {},
   "outputs": [],
   "source": [
    "import pandas as pd\n",
    "import numpy as np\n",
    "import numpy.typing as npt\n",
    "import seaborn as sns\n",
    "import matplotlib.pyplot as plt\n",
    "import os\n"
   ]
  },
  {
   "cell_type": "code",
   "execution_count": 5,
   "metadata": {},
   "outputs": [],
   "source": [
    "# setting constants\n",
    "PROJECT_ROOT = os.path.split(os.getcwd())[0]\n",
    "DATA_RAW = 'data'\n",
    "DATA_PRO = 'data/processed'\n",
    "\n",
    "# names of datasets\n",
    "QC23_raw = 'QC23_Dataset'\n",
    "QC23_clean = 'cleaned_QC23_Dataset'\n",
    "QC23_prob = 'qc23_prob'\n",
    "QC23_prob_pro = 'qc23_prob_pro'\n",
    "QC23_log = 'qc23_log'\n",
    "QC23_log_pro = 'qc23_log_pro'\n",
    "PROB_RESP_COUNT = 'problem_response_counts'\n",
    "STUD_RESP_COUNT = 'student_response_counts'\n",
    "PROB_ASSIST_MAP = 'problem_assistment_mapping'\n",
    "\n",
    "# names of file types\n",
    "CSV = '.csv'\n",
    "JSON = '.json'\n",
    "\n",
    "# names of columns\n",
    "PROBLEM_LOG_ID = 'problem_log_id'\n",
    "STUDENT_USER_ID = 'student_user_id'\n",
    "ASSIGNMENT_ID = 'assignment_id'\n",
    "ASSISTMENT_ID = 'assistment_id'\n",
    "ASSIGNMENT_COMPLETION = 'assignment_completion'\n",
    "PROBLEM_ID = 'problem_id'\n",
    "SKILL_CODE = 'skill_code'\n",
    "SKILL_NAME = 'skill_name'\n",
    "SKILL_BUILDER = 'is_flat_skill_builder'\n",
    "SCAFFOLD = 'is_scaffold'\n",
    "PROBLEM_START_TIME = 'problem_start_time'\n",
    "PROBLEM_END_TIME = 'problem_end_time'\n",
    "PROBLEM_TYPE_ID = 'problem_type_id'\n",
    "PROBLEM_TYPE = 'problem_type'\n",
    "PROBLEM_ORDER = 'problem_order'\n",
    "PROBLEM_BODY = 'problem_body'\n",
    "ANSWER_TEXT = 'answer_text'\n",
    "CORRECTNESS = 'correctness'\n",
    "\n",
    "# Dtypes:\n",
    "EXPECTED_DTYPES = {'problem_log_id': 'int64',\n",
    "        'student_user_id': 'int64',\n",
    "        'prior_problems_count': 'int64',\n",
    "        'prior_pr10_avg_correctness': 'float64',\n",
    "        'prior_5pr_avg_correctness': 'float64',\n",
    "        'prior_pr_avg_correctness': 'float64',\n",
    "        'problem_set_id': 'int64',\n",
    "        'student_class_id': 'int64',\n",
    "        'teacher_id': 'int64',\n",
    "        'assignment_id': 'int64',\n",
    "        'assignment_start_time': 'object',\n",
    "        'assignment_end_time': 'object',\n",
    "        'assignment_completion': 'int64',\n",
    "        'assistment_id': 'int64',\n",
    "        'problem_id': 'int64',\n",
    "        'problem_set_name': 'object',\n",
    "        'content_source': 'object',\n",
    "        'is_flat_skill_builder': 'int64',\n",
    "        'is_scaffold': 'int64',\n",
    "        'problem_type_id': 'int64',\n",
    "        'skill_code': 'object',\n",
    "        'skill_name': 'object',\n",
    "        'problem_type': 'object',\n",
    "        'problem_body': 'object',\n",
    "        'problem_order': 'int64',\n",
    "        'problem_start_time': 'object',\n",
    "        'problem_end_time': 'object',\n",
    "        'answer_text': 'object',\n",
    "        'correctness': 'float64',\n",
    "        'hint_count': 'int64',\n",
    "        'bottom_hint': 'bool',\n",
    "        'first_action_is_attempt': 'float64'\n",
    "        }\n"
   ]
  },
  {
   "cell_type": "code",
   "execution_count": null,
   "metadata": {},
   "outputs": [],
   "source": [
    "# Import the list of ground truth problem_id\n",
    "problem_pro = pd.read_csv(os.path.join(PROJECT_ROOT, DATA_PRO, QC23_prob_pro + CSV))\n",
    "problem_id = problem_pro[PROBLEM_ID].to_numpy()"
   ]
  },
  {
   "cell_type": "markdown",
   "metadata": {},
   "source": [
    "## Interaction Analysis"
   ]
  },
  {
   "cell_type": "code",
   "execution_count": 4,
   "metadata": {},
   "outputs": [
    {
     "name": "stdout",
     "output_type": "stream",
     "text": [
      "Total number of interactions: 16419584\n",
      "{1.25: 549, 11.0: 207, 1.5: 69, 2.0: 67, 1.125: 63, 1.75: 35, 2.25: 32, 2.75: 30, 10.0: 17, 5.5: 16, 8.25: 14, 3.5: 14, 10.75: 13, 3.0: 13, 2.5: 12, 8.5: 12, 6.0: 12, 10.5: 9, 25.0: 9, 5.75: 6, 1.1: 6, 111.0: 5, 10.25: 5, 5.0: 4, 8.0: 4, 12.5: 4, 7.75: 4, 3.25: 4, 102.5: 2, -1.0: 2, 7.5: 2, 1.05: 2, 12.25: 2, 82.5: 1, 111111111.0: 1, 1032.25: 1, 35.25: 1, 1025.0: 1, 1058.5: 1, 8.375: 1, 50.0: 1, 6.5: 1, 8.75: 1, 250.0: 1, 11.75: 1, 18.75: 1, 3.75: 1, 5.25: 1, 3.125: 1, 1.111111111111111e+19: 1, 126.0: 1}\n"
     ]
    }
   ],
   "source": [
    "inter_df = pd.read_csv(os.path.join(PROJECT_ROOT, DATA_PRO, QC23_log + CSV))\n",
    "\n",
    "print(\"Total number of interactions: %d\" % len(inter_df))\n",
    "\n",
    "outbound_correctness = {}\n",
    "for k, v in inter_df.correctness.value_counts().to_dict().items():\n",
    "    if k < 0 or k > 1:\n",
    "        outbound_correctness[k] = v\n",
    "print(outbound_correctness)\n",
    "# there are bunch of correctness outside 0-1 range, we drop them"
   ]
  },
  {
   "cell_type": "code",
   "execution_count": 5,
   "metadata": {},
   "outputs": [
    {
     "name": "stdout",
     "output_type": "stream",
     "text": [
      "Total number of interactions after dropping outbounded ones: 16418321\n"
     ]
    },
    {
     "data": {
      "text/plain": [
       "array([1.        , 0.        , 0.66666667, 0.33333333, 0.5       ,\n",
       "       0.75      , 0.25      , 0.875     , 0.625     , 0.7       ,\n",
       "       0.9375    , 0.375     , 0.95      , 0.6875    , 0.675     ,\n",
       "       0.975     , 0.6       , 0.9       , 0.67      , 0.125     ,\n",
       "       0.8       , 0.8125    , 0.65      , 0.33      , 0.3325    ,\n",
       "       0.925     , 0.55      , 0.335     , 0.4375    , 0.9875    ,\n",
       "       0.325     , 0.85      , 0.51      , 0.725     , 0.9625    ,\n",
       "       0.6675    , 0.5625    , 0.84      , 0.4       , 0.8675    ,\n",
       "       0.7125    , 0.99      , 0.9175    , 0.075     , 0.825     ,\n",
       "       0.835     , 0.665     , 0.9325    , 0.025     , 0.74      ,\n",
       "       0.05      , 0.1675    , 0.8325    , 0.575     , 0.92      ,\n",
       "       0.495     , 0.2475    , 0.53      , 0.7525    , 0.885     ,\n",
       "       0.45      , 0.96875   , 0.525     , 0.0625    , 0.3425    ,\n",
       "       0.6575    , 0.7075    , 0.2       , 0.8575    , 0.89      ,\n",
       "       0.44      ])"
      ]
     },
     "execution_count": 5,
     "metadata": {},
     "output_type": "execute_result"
    }
   ],
   "source": [
    "inter_df = inter_df[(inter_df.correctness >= 0) & (inter_df.correctness <= 1)]\n",
    "\n",
    "print(\"Total number of interactions after dropping outbounded ones: %d\" % len(inter_df))\n",
    "# check the correctness values\n",
    "inter_df.correctness.value_counts().index.to_numpy()"
   ]
  },
  {
   "cell_type": "code",
   "execution_count": 6,
   "metadata": {},
   "outputs": [
    {
     "data": {
      "text/plain": [
       "correctness\n",
       "1.000000    10755577\n",
       "0.000000     3951082\n",
       "0.666667      908852\n",
       "0.333333      251507\n",
       "0.500000      226606\n",
       "              ...   \n",
       "0.707500           1\n",
       "0.200000           1\n",
       "0.857500           1\n",
       "0.890000           1\n",
       "0.440000           1\n",
       "Name: count, Length: 71, dtype: int64"
      ]
     },
     "execution_count": 6,
     "metadata": {},
     "output_type": "execute_result"
    }
   ],
   "source": [
    "inter_df.correctness.value_counts()"
   ]
  },
  {
   "cell_type": "code",
   "execution_count": 20,
   "metadata": {},
   "outputs": [
    {
     "name": "stderr",
     "output_type": "stream",
     "text": [
      "/tmp/ipykernel_5913/3504742113.py:1: FutureWarning: In a future version of pandas, parsing datetimes with mixed time zones will raise an error unless `utc=True`. Please specify `utc=True` to opt in to the new behaviour and silence this warning. To create a `Series` with mixed offsets and `object` dtype, please use `apply` and `datetime.datetime.strptime`\n",
      "  inter_df[[PROBLEM_START_TIME, PROBLEM_END_TIME]].apply(pd.to_datetime)\n",
      "/tmp/ipykernel_5913/3504742113.py:1: FutureWarning: In a future version of pandas, parsing datetimes with mixed time zones will raise an error unless `utc=True`. Please specify `utc=True` to opt in to the new behaviour and silence this warning. To create a `Series` with mixed offsets and `object` dtype, please use `apply` and `datetime.datetime.strptime`\n",
      "  inter_df[[PROBLEM_START_TIME, PROBLEM_END_TIME]].apply(pd.to_datetime)\n"
     ]
    },
    {
     "data": {
      "text/html": [
       "<div>\n",
       "<style scoped>\n",
       "    .dataframe tbody tr th:only-of-type {\n",
       "        vertical-align: middle;\n",
       "    }\n",
       "\n",
       "    .dataframe tbody tr th {\n",
       "        vertical-align: top;\n",
       "    }\n",
       "\n",
       "    .dataframe thead th {\n",
       "        text-align: right;\n",
       "    }\n",
       "</style>\n",
       "<table border=\"1\" class=\"dataframe\">\n",
       "  <thead>\n",
       "    <tr style=\"text-align: right;\">\n",
       "      <th></th>\n",
       "      <th>problem_start_time</th>\n",
       "      <th>problem_end_time</th>\n",
       "    </tr>\n",
       "  </thead>\n",
       "  <tbody>\n",
       "    <tr>\n",
       "      <th>0</th>\n",
       "      <td>2018-12-20 12:04:39.823000-05:00</td>\n",
       "      <td>2018-12-20 12:05:17.018000-05:00</td>\n",
       "    </tr>\n",
       "    <tr>\n",
       "      <th>1</th>\n",
       "      <td>2018-12-20 12:04:46.001000-05:00</td>\n",
       "      <td>2018-12-20 12:05:37.277000-05:00</td>\n",
       "    </tr>\n",
       "    <tr>\n",
       "      <th>2</th>\n",
       "      <td>2018-12-20 12:04:46.038000-05:00</td>\n",
       "      <td>2018-12-20 12:05:09.637000-05:00</td>\n",
       "    </tr>\n",
       "    <tr>\n",
       "      <th>3</th>\n",
       "      <td>2018-12-20 12:04:48.268000-05:00</td>\n",
       "      <td>2018-12-20 12:04:52.403000-05:00</td>\n",
       "    </tr>\n",
       "    <tr>\n",
       "      <th>4</th>\n",
       "      <td>2018-12-20 12:04:51.297000-05:00</td>\n",
       "      <td>2018-12-20 12:05:44.658000-05:00</td>\n",
       "    </tr>\n",
       "    <tr>\n",
       "      <th>...</th>\n",
       "      <td>...</td>\n",
       "      <td>...</td>\n",
       "    </tr>\n",
       "    <tr>\n",
       "      <th>16419579</th>\n",
       "      <td>2023-01-27 11:09:55.336000-05:00</td>\n",
       "      <td>2023-01-27 11:10:04.175000-05:00</td>\n",
       "    </tr>\n",
       "    <tr>\n",
       "      <th>16419580</th>\n",
       "      <td>2023-01-27 11:10:32.210000-05:00</td>\n",
       "      <td>2023-01-27 11:12:00.779000-05:00</td>\n",
       "    </tr>\n",
       "    <tr>\n",
       "      <th>16419581</th>\n",
       "      <td>2023-01-27 11:13:36.711000-05:00</td>\n",
       "      <td>2023-01-27 11:14:05.519000-05:00</td>\n",
       "    </tr>\n",
       "    <tr>\n",
       "      <th>16419582</th>\n",
       "      <td>2023-01-27 11:15:33.330000-05:00</td>\n",
       "      <td>2023-01-27 11:23:10.712000-05:00</td>\n",
       "    </tr>\n",
       "    <tr>\n",
       "      <th>16419583</th>\n",
       "      <td>2023-01-27 11:15:36.668000-05:00</td>\n",
       "      <td>2023-01-27 11:16:06.844000-05:00</td>\n",
       "    </tr>\n",
       "  </tbody>\n",
       "</table>\n",
       "<p>16418321 rows × 2 columns</p>\n",
       "</div>"
      ],
      "text/plain": [
       "                        problem_start_time                  problem_end_time\n",
       "0         2018-12-20 12:04:39.823000-05:00  2018-12-20 12:05:17.018000-05:00\n",
       "1         2018-12-20 12:04:46.001000-05:00  2018-12-20 12:05:37.277000-05:00\n",
       "2         2018-12-20 12:04:46.038000-05:00  2018-12-20 12:05:09.637000-05:00\n",
       "3         2018-12-20 12:04:48.268000-05:00  2018-12-20 12:04:52.403000-05:00\n",
       "4         2018-12-20 12:04:51.297000-05:00  2018-12-20 12:05:44.658000-05:00\n",
       "...                                    ...                               ...\n",
       "16419579  2023-01-27 11:09:55.336000-05:00  2023-01-27 11:10:04.175000-05:00\n",
       "16419580  2023-01-27 11:10:32.210000-05:00  2023-01-27 11:12:00.779000-05:00\n",
       "16419581  2023-01-27 11:13:36.711000-05:00  2023-01-27 11:14:05.519000-05:00\n",
       "16419582  2023-01-27 11:15:33.330000-05:00  2023-01-27 11:23:10.712000-05:00\n",
       "16419583  2023-01-27 11:15:36.668000-05:00  2023-01-27 11:16:06.844000-05:00\n",
       "\n",
       "[16418321 rows x 2 columns]"
      ]
     },
     "execution_count": 20,
     "metadata": {},
     "output_type": "execute_result"
    }
   ],
   "source": [
    "# problem_log time span analysis\n",
    "# inter_df[[PROBLEM_START_TIME, PROBLEM_END_TIME]].apply(pd.to_datetime)"
   ]
  },
  {
   "cell_type": "code",
   "execution_count": 7,
   "metadata": {},
   "outputs": [],
   "source": [
    "response_df = inter_df[[PROBLEM_LOG_ID, STUDENT_USER_ID, PROBLEM_ID, CORRECTNESS]]"
   ]
  },
  {
   "cell_type": "code",
   "execution_count": 8,
   "metadata": {},
   "outputs": [],
   "source": [
    "# Only keep the problems that are in the processed problem prompt table\n",
    "response_df = response_df[response_df.problem_id.isin(problem_id)].reset_index(drop=True)"
   ]
  },
  {
   "cell_type": "code",
   "execution_count": 9,
   "metadata": {},
   "outputs": [
    {
     "data": {
      "text/plain": [
       "38570"
      ]
     },
     "execution_count": 9,
     "metadata": {},
     "output_type": "execute_result"
    }
   ],
   "source": [
    "response_df.problem_id.nunique()"
   ]
  },
  {
   "cell_type": "code",
   "execution_count": 10,
   "metadata": {},
   "outputs": [
    {
     "data": {
      "text/plain": [
       "440477"
      ]
     },
     "execution_count": 10,
     "metadata": {},
     "output_type": "execute_result"
    }
   ],
   "source": [
    "response_df.student_user_id.nunique()"
   ]
  },
  {
   "cell_type": "code",
   "execution_count": 15,
   "metadata": {},
   "outputs": [
    {
     "data": {
      "text/plain": [
       "16247775"
      ]
     },
     "execution_count": 15,
     "metadata": {},
     "output_type": "execute_result"
    }
   ],
   "source": [
    "len(response_df)"
   ]
  },
  {
   "cell_type": "code",
   "execution_count": 12,
   "metadata": {},
   "outputs": [
    {
     "data": {
      "text/plain": [
       "False"
      ]
     },
     "execution_count": 12,
     "metadata": {},
     "output_type": "execute_result"
    }
   ],
   "source": [
    "# identify if there are any duplicated interactions\n",
    "response_df[[STUDENT_USER_ID, PROBLEM_ID]].duplicated(keep=False).any()"
   ]
  },
  {
   "cell_type": "code",
   "execution_count": 35,
   "metadata": {},
   "outputs": [
    {
     "name": "stderr",
     "output_type": "stream",
     "text": [
      "/tmp/ipykernel_4996/1471296213.py:1: PerformanceWarning: The following operation may generate 16989197890 cells in the resulting pandas object.\n",
      "  response_mat = response_df.pivot(index=STUDENT_USER_ID, columns=PROBLEM_ID, values=CORRECTNESS)\n"
     ]
    },
    {
     "ename": "",
     "evalue": "",
     "output_type": "error",
     "traceback": [
      "\u001b[1;31mThe Kernel crashed while executing code in the current cell or a previous cell. \n",
      "\u001b[1;31mPlease review the code in the cell(s) to identify a possible cause of the failure. \n",
      "\u001b[1;31mClick <a href='https://aka.ms/vscodeJupyterKernelCrash'>here</a> for more info. \n",
      "\u001b[1;31mView Jupyter <a href='command:jupyter.viewOutput'>log</a> for further details."
     ]
    }
   ],
   "source": [
    "response_mat = response_df.pivot(index=STUDENT_USER_ID, columns=PROBLEM_ID, values=CORRECTNESS)"
   ]
  },
  {
   "cell_type": "code",
   "execution_count": 73,
   "metadata": {},
   "outputs": [
    {
     "data": {
      "text/html": [
       "<div>\n",
       "<style scoped>\n",
       "    .dataframe tbody tr th:only-of-type {\n",
       "        vertical-align: middle;\n",
       "    }\n",
       "\n",
       "    .dataframe tbody tr th {\n",
       "        vertical-align: top;\n",
       "    }\n",
       "\n",
       "    .dataframe thead th {\n",
       "        text-align: right;\n",
       "    }\n",
       "</style>\n",
       "<table border=\"1\" class=\"dataframe\">\n",
       "  <thead>\n",
       "    <tr style=\"text-align: right;\">\n",
       "      <th></th>\n",
       "      <th>problem_log_id</th>\n",
       "      <th>student_user_id</th>\n",
       "      <th>problem_id</th>\n",
       "      <th>correctness</th>\n",
       "    </tr>\n",
       "  </thead>\n",
       "  <tbody>\n",
       "    <tr>\n",
       "      <th>0</th>\n",
       "      <td>15444</td>\n",
       "      <td>523</td>\n",
       "      <td>1601582</td>\n",
       "      <td>1.00</td>\n",
       "    </tr>\n",
       "    <tr>\n",
       "      <th>1</th>\n",
       "      <td>15445</td>\n",
       "      <td>566</td>\n",
       "      <td>1601584</td>\n",
       "      <td>1.00</td>\n",
       "    </tr>\n",
       "    <tr>\n",
       "      <th>2</th>\n",
       "      <td>15446</td>\n",
       "      <td>505</td>\n",
       "      <td>1601582</td>\n",
       "      <td>1.00</td>\n",
       "    </tr>\n",
       "    <tr>\n",
       "      <th>3</th>\n",
       "      <td>15447</td>\n",
       "      <td>509</td>\n",
       "      <td>1601582</td>\n",
       "      <td>1.00</td>\n",
       "    </tr>\n",
       "    <tr>\n",
       "      <th>4</th>\n",
       "      <td>15449</td>\n",
       "      <td>550</td>\n",
       "      <td>1601584</td>\n",
       "      <td>1.00</td>\n",
       "    </tr>\n",
       "    <tr>\n",
       "      <th>...</th>\n",
       "      <td>...</td>\n",
       "      <td>...</td>\n",
       "      <td>...</td>\n",
       "      <td>...</td>\n",
       "    </tr>\n",
       "    <tr>\n",
       "      <th>16247770</th>\n",
       "      <td>168055847</td>\n",
       "      <td>373731</td>\n",
       "      <td>1393682</td>\n",
       "      <td>0.00</td>\n",
       "    </tr>\n",
       "    <tr>\n",
       "      <th>16247771</th>\n",
       "      <td>168055931</td>\n",
       "      <td>1972597</td>\n",
       "      <td>1573432</td>\n",
       "      <td>0.00</td>\n",
       "    </tr>\n",
       "    <tr>\n",
       "      <th>16247772</th>\n",
       "      <td>168056348</td>\n",
       "      <td>1109614</td>\n",
       "      <td>1066412</td>\n",
       "      <td>1.00</td>\n",
       "    </tr>\n",
       "    <tr>\n",
       "      <th>16247773</th>\n",
       "      <td>168056567</td>\n",
       "      <td>1113851</td>\n",
       "      <td>1331998</td>\n",
       "      <td>0.25</td>\n",
       "    </tr>\n",
       "    <tr>\n",
       "      <th>16247774</th>\n",
       "      <td>168056577</td>\n",
       "      <td>1202405</td>\n",
       "      <td>1085520</td>\n",
       "      <td>0.00</td>\n",
       "    </tr>\n",
       "  </tbody>\n",
       "</table>\n",
       "<p>16247775 rows × 4 columns</p>\n",
       "</div>"
      ],
      "text/plain": [
       "          problem_log_id  student_user_id  problem_id  correctness\n",
       "0                  15444              523     1601582         1.00\n",
       "1                  15445              566     1601584         1.00\n",
       "2                  15446              505     1601582         1.00\n",
       "3                  15447              509     1601582         1.00\n",
       "4                  15449              550     1601584         1.00\n",
       "...                  ...              ...         ...          ...\n",
       "16247770       168055847           373731     1393682         0.00\n",
       "16247771       168055931          1972597     1573432         0.00\n",
       "16247772       168056348          1109614     1066412         1.00\n",
       "16247773       168056567          1113851     1331998         0.25\n",
       "16247774       168056577          1202405     1085520         0.00\n",
       "\n",
       "[16247775 rows x 4 columns]"
      ]
     },
     "execution_count": 73,
     "metadata": {},
     "output_type": "execute_result"
    }
   ],
   "source": [
    "response_df"
   ]
  },
  {
   "cell_type": "code",
   "execution_count": 14,
   "metadata": {},
   "outputs": [],
   "source": [
    "response_df.to_csv(os.path.join(PROJECT_ROOT, DATA_PRO, 'qc23_log_pro.csv'), index=False)"
   ]
  },
  {
   "cell_type": "markdown",
   "metadata": {},
   "source": [
    "## Response Count"
   ]
  },
  {
   "cell_type": "code",
   "execution_count": 44,
   "metadata": {},
   "outputs": [],
   "source": [
    "problem_response_count = response_df.groupby(PROBLEM_ID).student_user_id.count().reset_index().rename(columns={\n",
    "    'student_user_id': 'response_count'\n",
    "})\n",
    "student_response_count = response_df.groupby(STUDENT_USER_ID).problem_id.count().reset_index().rename(columns={\n",
    "    'problem_id': 'response_count'\n",
    "})"
   ]
  },
  {
   "cell_type": "code",
   "execution_count": 36,
   "metadata": {},
   "outputs": [
    {
     "data": {
      "text/plain": [
       "count    38570.000000\n",
       "mean       421.254213\n",
       "std        797.306662\n",
       "min          1.000000\n",
       "25%         22.000000\n",
       "50%         97.000000\n",
       "75%        436.000000\n",
       "max      19634.000000\n",
       "Name: response_count, dtype: float64"
      ]
     },
     "execution_count": 36,
     "metadata": {},
     "output_type": "execute_result"
    }
   ],
   "source": [
    "problem_response_count['response_count'].describe()"
   ]
  },
  {
   "cell_type": "code",
   "execution_count": 45,
   "metadata": {},
   "outputs": [
    {
     "data": {
      "text/plain": [
       "count    440477.000000\n",
       "mean         36.886773\n",
       "std          68.439848\n",
       "min           1.000000\n",
       "25%           4.000000\n",
       "50%          13.000000\n",
       "75%          38.000000\n",
       "max        1921.000000\n",
       "Name: response_count, dtype: float64"
      ]
     },
     "execution_count": 45,
     "metadata": {},
     "output_type": "execute_result"
    }
   ],
   "source": [
    "student_response_count['response_count'].describe()"
   ]
  },
  {
   "cell_type": "code",
   "execution_count": 65,
   "metadata": {},
   "outputs": [
    {
     "data": {
      "text/plain": [
       "440477"
      ]
     },
     "execution_count": 65,
     "metadata": {},
     "output_type": "execute_result"
    }
   ],
   "source": [
    "student_response_count.student_user_id.count()"
   ]
  },
  {
   "cell_type": "code",
   "execution_count": 66,
   "metadata": {},
   "outputs": [],
   "source": [
    "def response_count_func(df: pd.DataFrame, col: str) -> pd.DataFrame:\n",
    "    # counts number of problems that have response_count = 1\n",
    "    ans_1 = len(df[df[col] == 1])\n",
    "    # counts number of problems that have response_count between 2-10\n",
    "    ans_10 = len(df[(df[col] >= 2) & (df[col] < 10)])\n",
    "    # counts number of problems that have response_count between 10-50\n",
    "    ans_50 = len(df[(df[col] >= 10) & (df[col] < 50)])\n",
    "    # counts number of problems that have response_count between 50-100\n",
    "    ans_100 = len(df[(df[col] >= 50) & (df[col] < 100)])\n",
    "    # counts number of problems that have response_count between 100-200\n",
    "    ans_200 = len(df[(df[col] >= 100) & (df[col] < 200)])\n",
    "    # counts number of problems that have response_count between 200-500\n",
    "    ans_500 = len(df[(df[col] >= 200) & (df[col] < 500)])\n",
    "    # counts number of problems that have response_count between 500-1000\n",
    "    ans_1000 = len(df[(df[col] >= 500) & (df[col] < 1000)])\n",
    "    # counts number of problems that have response_count more than 1000\n",
    "    ans_1000_plus = len(df[df[col] >= 1000])\n",
    "\n",
    "    ans_count = pd.Series([ans_1, ans_10, ans_50, ans_100, ans_200, ans_500, ans_1000, ans_1000_plus], index=['1', '2-10', '10-50', '50-100', '100-200', '200-500', '500-1000', '1000+'])\n",
    "    return pd.DataFrame({'count': ans_count.values, 'range': ans_count.index}) \n",
    "    "
   ]
  },
  {
   "cell_type": "code",
   "execution_count": 67,
   "metadata": {},
   "outputs": [],
   "source": [
    "problem_count_bin =  response_count_func(problem_response_count, 'response_count')\n",
    "sutdent_count_bin = response_count_func(student_response_count, 'response_count')"
   ]
  },
  {
   "cell_type": "code",
   "execution_count": 68,
   "metadata": {},
   "outputs": [
    {
     "data": {
      "text/plain": [
       "440477"
      ]
     },
     "execution_count": 68,
     "metadata": {},
     "output_type": "execute_result"
    }
   ],
   "source": [
    "sutdent_count_bin['count'].sum()"
   ]
  },
  {
   "cell_type": "code",
   "execution_count": 69,
   "metadata": {},
   "outputs": [
    {
     "data": {
      "image/png": "[encoded data removed]",
      "text/plain": [
       "<Figure size 640x480 with 1 Axes>"
      ]
     },
     "metadata": {},
     "output_type": "display_data"
    }
   ],
   "source": [
    "sns.barplot(data=problem_count_bin, x='range', y='count')\n",
    "# label each bar with the count\n",
    "for index, row in problem_count_bin.iterrows():\n",
    "    plt.text(row['range'], row['count'], row['count'], ha='center', va='bottom')\n",
    "plt.show()"
   ]
  },
  {
   "cell_type": "code",
   "execution_count": 70,
   "metadata": {},
   "outputs": [
    {
     "data": {
      "image/png": "[encoded data removed]",
      "text/plain": [
       "<Figure size 640x480 with 1 Axes>"
      ]
     },
     "metadata": {},
     "output_type": "display_data"
    }
   ],
   "source": [
    "sns.barplot(data=sutdent_count_bin, x='range', y='count')\n",
    "# label each bar with the count\n",
    "for index, row in sutdent_count_bin.iterrows():\n",
    "    plt.text(row['range'], row['count'], row['count'], ha='center', va='bottom')\n",
    "plt.show()"
   ]
  },
  {
   "cell_type": "code",
   "execution_count": null,
   "metadata": {},
   "outputs": [],
   "source": [
    "# Import the list of ground truth problem_id\n",
    "problem_pro = pd.read_csv(os.path.join(PROJECT_ROOT, DATA_PRO, QC23_prob_pro + CSV))\n",
    "problem_id = problem_pro[PROBLEM_ID].to_numpy()"
   ]
  },
  {
   "cell_type": "code",
   "execution_count": null,
   "metadata": {},
   "outputs": [],
   "source": [
    "problem_response_count.to_csv(os.path.join(PROJECT_ROOT, DATA_PRO, PROB_RESP_COUNT + CSV), index=False)"
   ]
  },
  {
   "cell_type": "code",
   "execution_count": null,
   "metadata": {},
   "outputs": [],
   "source": []
  }
 ],
 "metadata": {
  "kernelspec": {
   "display_name": "Python 3",
   "language": "python",
   "name": "python3"
  },
  "language_info": {
   "codemirror_mode": {
    "name": "ipython",
    "version": 3
   },
   "file_extension": ".py",
   "mimetype": "text/x-python",
   "name": "python",
   "nbconvert_exporter": "python",
   "pygments_lexer": "ipython3",
   "version": "3.12.3"
  }
 },
 "nbformat": 4,
 "nbformat_minor": 2
}
